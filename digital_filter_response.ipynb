{
 "cells": [
  {
   "cell_type": "code",
   "execution_count": null,
   "metadata": {},
   "outputs": [],
   "source": [
    "from scipy import signal\n",
    "import numpy as np"
   ]
  },
  {
   "cell_type": "code",
   "execution_count": null,
   "metadata": {},
   "outputs": [],
   "source": [
    "filter = [0] * 512\n",
    "\n",
    "for i in range(0,3):\n",
    "    filter[i] = 1/3\n",
    "\n",
    "numpied_filter = np.array(filter)\n",
    "w, h = signal.freqz(numpied_filter)"
   ]
  },
  {
   "cell_type": "code",
   "execution_count": null,
   "metadata": {},
   "outputs": [],
   "source": [
    "import matplotlib.pyplot as plt"
   ]
  },
  {
   "cell_type": "code",
   "execution_count": null,
   "metadata": {},
   "outputs": [],
   "source": [
    "fig, ax1 = plt.subplots()\n",
    "ax1.set_title('Digital filter frequency response')\n",
    "ax1.plot(w, 20 * np.log10(abs(h)), 'b')\n",
    "ax1.set_ylabel('Amplitude [dB]', color='b')\n",
    "ax1.set_xlabel('Frequency [rad/sample]')\n",
    "ax2 = ax1.twinx()\n",
    "angles = np.unwrap(np.angle(h))\n",
    "ax2.plot(w, angles, 'g')\n",
    "ax2.set_ylabel('Angle (radians)', color='g')\n",
    "ax2.grid(True)\n",
    "ax2.axis('tight')\n",
    "plt.show()"
   ]
  }
 ],
 "metadata": {
  "language_info": {
   "name": "python"
  },
  "orig_nbformat": 4
 },
 "nbformat": 4,
 "nbformat_minor": 2
}
